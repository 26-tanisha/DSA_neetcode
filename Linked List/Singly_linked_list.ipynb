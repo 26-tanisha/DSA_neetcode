{
 "cells": [
  {
   "cell_type": "markdown",
   "metadata": {},
   "source": [
    "Structure of linked list"
   ]
  },
  {
   "cell_type": "code",
   "execution_count": 1,
   "metadata": {},
   "outputs": [],
   "source": [
    "class ListNode:\n",
    "    def __init__(self,val):\n",
    "        self.val = val\n",
    "        self.next = None"
   ]
  },
  {
   "cell_type": "markdown",
   "metadata": {},
   "source": [
    "Implementation of linked list"
   ]
  },
  {
   "cell_type": "code",
   "execution_count": 4,
   "metadata": {},
   "outputs": [],
   "source": [
    "class LinkedList:\n",
    "    def __init__(self):\n",
    "        #initialize the list using dummy node as removing node form beginning is easy\n",
    "        self.head = ListNode(-1)\n",
    "        self.tail = self.head\n",
    "    \n",
    "    #Insert node\n",
    "    def insertEnd(self,val):\n",
    "        self.tail.next = ListNode(val)\n",
    "        self.tail = self.tail.next\n",
    "        \n",
    "    #remove node\n",
    "    def remove(self,index):\n",
    "        i = 0\n",
    "        curr = self.head\n",
    "        while i< index and curr :\n",
    "            i+=1\n",
    "            curr = curr.next\n",
    "        #remove node next of curr\n",
    "        if curr:\n",
    "            curr.next = curr.next.next\n",
    "            \n",
    "    #print the list\n",
    "    def print(self):\n",
    "        curr = self.head.next\n",
    "        while curr:\n",
    "            print(curr.val, \"->\")\n",
    "            curr = curr.next\n",
    "        print()\n",
    "            \n",
    "        "
   ]
  },
  {
   "cell_type": "markdown",
   "metadata": {},
   "source": [
    "Reverse a linked list (itterative approach)"
   ]
  },
  {
   "cell_type": "code",
   "execution_count": null,
   "metadata": {},
   "outputs": [],
   "source": [
    "class Linkedlist:\n",
    "    def ListNode(self,val=0, next=None):\n",
    "        self.val = val\n",
    "        self.next = next\n",
    "    \n",
    "    def reverse(self,head):\n",
    "        #empty linked list\n",
    "        if not head:  \n",
    "            return None\n",
    "        prev = None #previous ptr that will point to previous node and help in reversing\n",
    "        curr = head\n",
    "        while curr:\n",
    "            next_temp = curr.next #temp ptr which will point to the next node of curr\n",
    "            curr.next = prev #reversing the ptr of curr node\n",
    "            prev = curr #increment prev ptr\n",
    "            curr = next_temp #increment curr\n",
    "        return prev #prev is now pointing to the new head of reversed linked list\n",
    "             "
   ]
  }
 ],
 "metadata": {
  "kernelspec": {
   "display_name": "Python 3",
   "language": "python",
   "name": "python3"
  },
  "language_info": {
   "codemirror_mode": {
    "name": "ipython",
    "version": 3
   },
   "file_extension": ".py",
   "mimetype": "text/x-python",
   "name": "python",
   "nbconvert_exporter": "python",
   "pygments_lexer": "ipython3",
   "version": "3.8.0"
  },
  "orig_nbformat": 4
 },
 "nbformat": 4,
 "nbformat_minor": 2
}
