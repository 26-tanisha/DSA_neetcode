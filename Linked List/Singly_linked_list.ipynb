{
 "cells": [
  {
   "cell_type": "markdown",
   "metadata": {},
   "source": [
    "Structure of linked list"
   ]
  },
  {
   "cell_type": "code",
   "execution_count": 1,
   "metadata": {},
   "outputs": [],
   "source": [
    "class ListNode:\n",
    "    def __init__(self,val):\n",
    "        self.val = val\n",
    "        self.next = None"
   ]
  },
  {
   "cell_type": "markdown",
   "metadata": {},
   "source": [
    "Implementation of linked list"
   ]
  },
  {
   "cell_type": "code",
   "execution_count": 4,
   "metadata": {},
   "outputs": [],
   "source": [
    "class LinkedList:\n",
    "    def __init__(self):\n",
    "        #initialize the list using dummy node as removing node form beginning is easy\n",
    "        self.head = ListNode(-1)\n",
    "        self.tail = self.head\n",
    "    \n",
    "    #Insert node\n",
    "    def insertEnd(self,val):\n",
    "        self.tail.next = ListNode(val)\n",
    "        self.tail = self.tail.next\n",
    "        \n",
    "    #remove node\n",
    "    def remove(self,index):\n",
    "        i = 0\n",
    "        curr = self.head\n",
    "        while i< index and curr :\n",
    "            i+=1\n",
    "            curr = curr.next\n",
    "        #remove node next of curr\n",
    "        if curr:\n",
    "            curr.next = curr.next.next\n",
    "            \n",
    "    #print the list\n",
    "    def print(self):\n",
    "        curr = self.head.next\n",
    "        while curr:\n",
    "            print(curr.val, \"->\")\n",
    "            curr = curr.next\n",
    "        print()\n",
    "            \n",
    "        "
   ]
  },
  {
   "cell_type": "code",
   "execution_count": null,
   "metadata": {},
   "outputs": [],
   "source": []
  }
 ],
 "metadata": {
  "kernelspec": {
   "display_name": "Python 3",
   "language": "python",
   "name": "python3"
  },
  "language_info": {
   "codemirror_mode": {
    "name": "ipython",
    "version": 3
   },
   "file_extension": ".py",
   "mimetype": "text/x-python",
   "name": "python",
   "nbconvert_exporter": "python",
   "pygments_lexer": "ipython3",
   "version": "3.8.0"
  },
  "orig_nbformat": 4
 },
 "nbformat": 4,
 "nbformat_minor": 2
}
