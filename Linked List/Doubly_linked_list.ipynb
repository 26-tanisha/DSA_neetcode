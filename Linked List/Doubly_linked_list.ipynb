{
 "cells": [
  {
   "cell_type": "markdown",
   "metadata": {},
   "source": [
    "Structure of doubly linked list"
   ]
  },
  {
   "cell_type": "code",
   "execution_count": 1,
   "metadata": {},
   "outputs": [],
   "source": [
    "class ListNode:\n",
    "    def __init__(self,val):\n",
    "        self.val = val \n",
    "        self.next = None \n",
    "        self.prev = None"
   ]
  },
  {
   "cell_type": "markdown",
   "metadata": {},
   "source": [
    "Implementation of Doubly LL"
   ]
  },
  {
   "cell_type": "code",
   "execution_count": 2,
   "metadata": {},
   "outputs": [],
   "source": [
    "def __init__(self):\n",
    "    #init the list with \"dummy\" head and tail to make insertion and deletion easy for edge cases\n",
    "    self.head = ListNode(-1) \n",
    "    self.tail = ListNode(-1)\n",
    "    self.head.next = self.tail \n",
    "    self.tail.prev = self.head \n",
    "    "
   ]
  },
  {
   "cell_type": "markdown",
   "metadata": {},
   "source": [
    "Insertion "
   ]
  },
  {
   "cell_type": "code",
   "execution_count": 3,
   "metadata": {},
   "outputs": [],
   "source": [
    "def insertFront(self,val): \n",
    "    newNode = ListNode(val) \n",
    "    newNode.prev = self.head \n",
    "    newNode.next = self.head.next \n",
    "    \n",
    "    self.head.next.prev = newNode \n",
    "    self.head.next = newNode \n",
    "    \n",
    "def insertEnd(self, val):\n",
    "    newNode = ListNode(val) \n",
    "    newNode.next = self.tail \n",
    "    newNode.prev = self.tail.prev \n",
    "    \n",
    "    self.tail.prev.next = newNode \n",
    "    self.tail.prev = newNode  \n",
    "    "
   ]
  },
  {
   "cell_type": "markdown",
   "metadata": {},
   "source": [
    "Deletion "
   ]
  },
  {
   "cell_type": "code",
   "execution_count": null,
   "metadata": {},
   "outputs": [],
   "source": [
    "#remove first node after dummy head \n",
    "def removeFront(self): \n",
    "    self.head.next.next.prev = self.head \n",
    "    self.head.next = self.head.next.next \n",
    "    \n",
    "#remove last node before dummy tail \n",
    "def removeEnd(self): \n",
    "    self.tail.prev.prev.next = self.tail \n",
    "    self.tail.prev = self.tail.prev.prev \n",
    "    \n",
    "#Print the list \n",
    "def print(self): \n",
    "    curr = self.head.next \n",
    "    while curr != self.tail: \n",
    "        print(curr.val, \"->\") \n",
    "        curr=curr.next\n",
    "    print()"
   ]
  }
 ],
 "metadata": {
  "kernelspec": {
   "display_name": "Python 3",
   "language": "python",
   "name": "python3"
  },
  "language_info": {
   "codemirror_mode": {
    "name": "ipython",
    "version": 3
   },
   "file_extension": ".py",
   "mimetype": "text/x-python",
   "name": "python",
   "nbconvert_exporter": "python",
   "pygments_lexer": "ipython3",
   "version": "3.8.0"
  },
  "orig_nbformat": 4
 },
 "nbformat": 4,
 "nbformat_minor": 2
}
