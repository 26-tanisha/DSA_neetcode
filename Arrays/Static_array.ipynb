{
 "cells": [
  {
   "cell_type": "markdown",
   "metadata": {},
   "source": [
    "Insert value 'val' at end"
   ]
  },
  {
   "cell_type": "code",
   "execution_count": 1,
   "metadata": {},
   "outputs": [],
   "source": [
    "#length (n) = no of values in array\n",
    "#capacity: size of array, memory allocated to it \n",
    "def insertEnd(arr, val, n, capacity):\n",
    "    if n <capacity:\n",
    "        arr[n] = val\n"
   ]
  },
  {
   "cell_type": "markdown",
   "metadata": {},
   "source": [
    "Remove from end of array"
   ]
  },
  {
   "cell_type": "code",
   "execution_count": 2,
   "metadata": {},
   "outputs": [],
   "source": [
    "def removeEnd(arr,n):\n",
    "    if n>0:\n",
    "        arr[n-1] =0  #overwriting the value with a default value i.e., 0"
   ]
  },
  {
   "cell_type": "markdown",
   "metadata": {},
   "source": [
    "Insert value \"val\" at \"pos\" position "
   ]
  },
  {
   "cell_type": "code",
   "execution_count": 3,
   "metadata": {},
   "outputs": [],
   "source": [
    "#done by shifting elements to right\n",
    "def insertMiddle(arr,val,pos,n):\n",
    "    for i in range(n-1,pos-1,-1):\n",
    "        arr[i+1] = arr[i]                        \n",
    "    arr[i] = val\n",
    "    "
   ]
  },
  {
   "cell_type": "markdown",
   "metadata": {},
   "source": [
    "Remove value \"val\" from \"pos\" position"
   ]
  },
  {
   "cell_type": "code",
   "execution_count": 4,
   "metadata": {},
   "outputs": [],
   "source": [
    "#done by shifting elements to left \n",
    "def removeMiddle(arr,pos,n):\n",
    "    for i in range(pos,n):\n",
    "        arr[i] = arr[i+1]"
   ]
  },
  {
   "cell_type": "markdown",
   "metadata": {},
   "source": [
    "Printing array"
   ]
  },
  {
   "cell_type": "code",
   "execution_count": 5,
   "metadata": {},
   "outputs": [],
   "source": [
    "def printArr(arr,capacity):\n",
    "    for i in range(capacity):\n",
    "        print(arr[i])"
   ]
  }
 ],
 "metadata": {
  "kernelspec": {
   "display_name": "Python 3",
   "language": "python",
   "name": "python3"
  },
  "language_info": {
   "codemirror_mode": {
    "name": "ipython",
    "version": 3
   },
   "file_extension": ".py",
   "mimetype": "text/x-python",
   "name": "python",
   "nbconvert_exporter": "python",
   "pygments_lexer": "ipython3",
   "version": "3.8.0"
  },
  "orig_nbformat": 4
 },
 "nbformat": 4,
 "nbformat_minor": 2
}
